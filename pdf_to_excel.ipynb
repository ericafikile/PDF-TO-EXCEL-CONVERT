{
 "cells": [
  {
   "cell_type": "code",
   "execution_count": 26,
   "id": "894cbf8e-0d9e-4051-8fc5-306e2c737e4f",
   "metadata": {},
   "outputs": [],
   "source": [
    "import camelot\n",
    "import pandas as pd\n",
    "\n",
    "# Function to convert PDF table to Excel\n",
    "def pdf_to_excel(pdf_path, excel_path):\n",
    "    # Use camelot to read the tables from the PDF\n",
    "    tables = camelot.read_pdf(pdf_path, pages='all', flavor='stream')\n",
    "\n",
    "    # Check if tables are found\n",
    "    if not tables:\n",
    "        print(\"No tables found in the PDF.\")\n",
    "        return\n",
    "\n",
    "    # Combine all tables into a single DataFrame\n",
    "    combined_df = pd.concat([table.df for table in tables], ignore_index=True)\n",
    "\n",
    "    # Write the combined DataFrame to an Excel file\n",
    "    combined_df.to_excel(excel_path, index=False, engine='openpyxl')\n",
    "    print(f\"Table successfully extracted and saved to {excel_path}\")\n",
    "\n"
   ]
  },
  {
   "cell_type": "code",
   "execution_count": 52,
   "id": "2b8dce90-22d0-4e0f-b813-5d5cc529b783",
   "metadata": {},
   "outputs": [
    {
     "name": "stdout",
     "output_type": "stream",
     "text": [
      "Table successfully extracted and saved to C:\\Users\\HP\\Desktop\\pdf_to_excel\\pdf\\table.xlsx\n"
     ]
    }
   ],
   "source": [
    "# Example usage\n",
    "pdf_path = \"C:\\\\Users\\\\HP\\\\Desktop\\\\pdf_to_excel\\\\pdf\\\\table.pdf\" # path to your PDF file\n",
    "excel_path = \"C:\\\\Users\\\\HP\\\\Desktop\\\\pdf_to_excel\\\\pdf\\\\table.xlsx\"  # desired output Excel file\n",
    "\n",
    "pdf_to_excel(pdf_path, excel_path)\n"
   ]
  },
  {
   "cell_type": "code",
   "execution_count": null,
   "id": "8268aa7c-f1ef-4617-b42c-d3b150003237",
   "metadata": {},
   "outputs": [],
   "source": []
  }
 ],
 "metadata": {
  "kernelspec": {
   "display_name": "Python [conda env:base] *",
   "language": "python",
   "name": "conda-base-py"
  },
  "language_info": {
   "codemirror_mode": {
    "name": "ipython",
    "version": 3
   },
   "file_extension": ".py",
   "mimetype": "text/x-python",
   "name": "python",
   "nbconvert_exporter": "python",
   "pygments_lexer": "ipython3",
   "version": "3.12.7"
  }
 },
 "nbformat": 4,
 "nbformat_minor": 5
}
